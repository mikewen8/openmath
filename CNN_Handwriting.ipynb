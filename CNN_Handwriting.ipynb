{
 "cells": [
  {
   "cell_type": "markdown",
   "id": "b5d9074e-4b09-47b1-8e45-5ec2341b72ba",
   "metadata": {},
   "source": [
    "follows this with image adjustments made through webscaping\n",
    "https://www.youtube.com/watch?v=jztwpsIzEGc\n",
    "more accuracy can include rgb values with this "
   ]
  },
  {
   "cell_type": "code",
   "execution_count": 2,
   "id": "3713fa80-2ef9-4462-b68f-8ee606c73904",
   "metadata": {},
   "outputs": [
    {
     "name": "stdout",
     "output_type": "stream",
     "text": [
      "WARNING:tensorflow:From C:\\Users\\mikec\\AppData\\Local\\Programs\\Python\\Python311\\Lib\\site-packages\\keras\\src\\losses.py:2976: The name tf.losses.sparse_softmax_cross_entropy is deprecated. Please use tf.compat.v1.losses.sparse_softmax_cross_entropy instead.\n",
      "\n"
     ]
    }
   ],
   "source": [
    "import tensorflow as tf\n",
    "import matplotlib.pyplot as plt\n",
    "import numpy as np\n",
    "import cv2\n",
    "import os"
   ]
  },
  {
   "cell_type": "code",
   "execution_count": 3,
   "id": "4e34fe22-7c3c-48e8-b50b-f59cf6e6804b",
   "metadata": {},
   "outputs": [],
   "source": [
    "\"\"\"\n",
    "This is for gpu acceleration \n",
    "need NVIDIA for CUDI\n",
    "need to set up for AMD GPU's download ROCM\n",
    "import tensorflow as tf\n",
    "\n",
    "# List all visible devices (GPUs and CPUs)\n",
    "devices = tf.config.experimental.list_physical_devices()\n",
    "\n",
    "# Filter out only AMD GPUs\n",
    "amd_gpus = [device for device in devices if 'AMD' in device.name]\n",
    "\n",
    "# Print information about AMD GPUs\n",
    "for gpu in amd_gpus:\n",
    "    print(\"Name:\", gpu.name)\n",
    "    print(\"Device Type:\", gpu.device_type)\n",
    "    print(\"Memory Limit:\", gpu.memory_limit)\n",
    "    print()\n",
    "\"\"\""
   ]
  },
  {
   "cell_type": "markdown",
   "id": "70b023a7-0ddf-4928-a474-82445abbf9f4",
   "metadata": {},
   "source": [
    "Data preprocessing"
   ]
  },
  {
   "cell_type": "code",
   "execution_count": null,
   "id": "60075b13-62f7-4e81-a723-48f08d153799",
   "metadata": {},
   "outputs": [],
   "source": [
    "import cv2\n",
    "import imghdir\n",
    "\"\"\"\n",
    "_data_dir='' #need data file name here someone maybe me upload this and do webscraping for jpgs of operators or something\n",
    "image_ext = ['jpg','png','jpeg','bmp'] #list of image files like .jpg, png\n",
    "\"\"\""
   ]
  },
  {
   "cell_type": "code",
   "execution_count": null,
   "id": "6b25b9c5-7d33-42a7-a8ce-c3b31987c603",
   "metadata": {},
   "outputs": [],
   "source": []
  }
 ],
 "metadata": {
  "kernelspec": {
   "display_name": "Python 3 (ipykernel)",
   "language": "python",
   "name": "python3"
  },
  "language_info": {
   "codemirror_mode": {
    "name": "ipython",
    "version": 3
   },
   "file_extension": ".py",
   "mimetype": "text/x-python",
   "name": "python",
   "nbconvert_exporter": "python",
   "pygments_lexer": "ipython3",
   "version": "3.11.1"
  }
 },
 "nbformat": 4,
 "nbformat_minor": 5
}
