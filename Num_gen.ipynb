{
 "cells": [
  {
   "cell_type": "code",
   "execution_count": 21,
   "id": "8a19355a-a15f-4f33-b731-c9b4104740bc",
   "metadata": {},
   "outputs": [
    {
     "name": "stdout",
     "output_type": "stream",
     "text": [
      "There are 2 files in the folder.\n"
     ]
    }
   ],
   "source": [
    "#generates 28x28 images\n",
    "import os\n",
    "\n",
    "folder_path = \"Numbers\"  # Specify the folder path\n",
    "file_count = len([name for name in os.listdir(folder_path) if os.path.isfile(os.path.join(folder_path, name))])\n",
    "\n",
    "print(f\"There are {file_count} files in the folder.\")\n"
   ]
  },
  {
   "cell_type": "code",
   "execution_count": 22,
   "id": "45df3664-911b-43fc-a6b4-a51eaa63d194",
   "metadata": {},
   "outputs": [
    {
     "name": "stdout",
     "output_type": "stream",
     "text": [
      "There are 0 files in the folder.\n"
     ]
    }
   ],
   "source": [
    "#generates a 1\n",
    "from PIL import Image, ImageDraw\n",
    "import os\n",
    "folder_path = \"Numbers\"  # Specify the folder path\n",
    "file_count = len([name for name in os.listdir(folder_path) if os.path.isfile(os.path.join(folder_path, name))])\n",
    "\n",
    "print(f\"There are {file_count} files in the folder.\")\n",
    "# Create a 28x28 pixel image with a white background\n",
    "img = Image.new('RGB', (28, 28), 'white')\n",
    "draw = ImageDraw.Draw(img)\n",
    "\n",
    "# Set the color and width of the lines\n",
    "color = 'black'\n",
    "width = 2\n",
    "\n",
    "# Drawing a simple \"1\"\n",
    "draw.line((14, 5, 14, 25), fill=color, width=width)  # Vertical line\n",
    "\n",
    "# Specify the path to save the image\n",
    "folder_path = \"C:\\\\Users\\\\mikec\\\\openmath\\\\Numbers\"\n",
    "\n",
    "# Ensure the folder exists, if not create it\n",
    "if not os.path.exists(folder_path):\n",
    "    os.makedirs(folder_path)\n",
    "\n",
    "# Save the image to the specified folder\n",
    "file_path = os.path.join(folder_path, f'number{file_count}.png')\n",
    "img.save(file_path)\n",
    "\n",
    "# Display the image\n",
    "img.show()\n"
   ]
  },
  {
   "cell_type": "code",
   "execution_count": 15,
   "id": "fcfe7c21-ad8c-4cd6-b20f-d23178328f0f",
   "metadata": {},
   "outputs": [],
   "source": [
    "from PIL import Image, ImageDraw\n",
    "folder_path = \"Numbers\"  # Specify the folder path\n",
    "file_count = len([name for name in os.listdir(folder_path) if os.path.isfile(os.path.join(folder_path, name))])\n",
    "\n",
    "print(f\"There are {file_count} files in the folder.\")\n",
    "# Create a 28x28 pixel image with a white background\n",
    "img = Image.new('RGB', (28, 28), 'white')\n",
    "draw = ImageDraw.Draw(img)\n",
    "\n",
    "# Set the color and width of the lines\n",
    "color = 'black'\n",
    "width = 2\n",
    "\n",
    "# Drawing a simple \"3\"\n",
    "draw.line((10, 5, 18, 5), fill=color, width=width)  # Top horizontal line\n",
    "draw.line((18, 5, 18, 13), fill=color, width=width) # Middle vertical line to the right\n",
    "draw.line((10, 13, 18, 13), fill=color, width=width) # Middle horizontal line\n",
    "draw.line((10, 13, 10, 21), fill=color, width=width) # Middle vertical line to the left\n",
    "draw.line((10, 21, 18, 21), fill=color, width=width) # Bottom horizontal line\n",
    "\n",
    "# Specify the path relative to the notebook's location\n",
    "folder_path = 'Numbers/'\n",
    "\n",
    "# Ensure the folder exists, if not create it\n",
    "folder_path = \"C:\\\\Users\\\\mikec\\\\openmath\\\\Numbers\"\n",
    "\n",
    "import os\n",
    "if not os.path.exists(folder_path):\n",
    "    os.makedirs(folder_path)\n",
    "\n",
    "# Save the image to the specified folder\n",
    "file_path = os.path.join(folder_path, f'number{file_count}.png')\n",
    "img.save(file_path)\n",
    "\n",
    "# Display the image\n",
    "img.show()\n"
   ]
  },
  {
   "cell_type": "code",
   "execution_count": 23,
   "id": "c7dcf32d-a3e5-40d3-9702-c9d4bc8dbdc8",
   "metadata": {},
   "outputs": [
    {
     "name": "stdout",
     "output_type": "stream",
     "text": [
      "There are 1 files in the folder.\n"
     ]
    }
   ],
   "source": [
    "from PIL import Image, ImageDraw\n",
    "import os\n",
    "folder_path = \"Numbers\"  # Specify the folder path\n",
    "file_count = len([name for name in os.listdir(folder_path) if os.path.isfile(os.path.join(folder_path, name))])\n",
    "\n",
    "print(f\"There are {file_count} files in the folder.\")\n",
    "# Create a 28x28 pixel image with a white background\n",
    "img = Image.new('RGB', (28, 28), 'white')\n",
    "draw = ImageDraw.Draw(img)\n",
    "\n",
    "# Set the color and width of the lines\n",
    "color = 'black'\n",
    "width = 2\n",
    "\n",
    "# Drawing a simple \"3\"\n",
    "draw.line((10, 5, 18, 5), fill=color, width=width)  # Top horizontal line\n",
    "draw.line((18, 5, 18, 21), fill=color, width=width) # Middle vertical line to the right\n",
    "draw.line((10, 13, 18, 13), fill=color, width=width) # Middle horizontal line\n",
    "draw.line((10, 21, 18, 21), fill=color, width=width) # Bottom horizontal line\n",
    "\n",
    "# Specify the path relative to the notebook's location\n",
    "folder_path = 'Numbers/'\n",
    "\n",
    "# Ensure the folder exists, if not create it\n",
    "if not os.path.exists(folder_path):\n",
    "    os.makedirs(folder_path)\n",
    "\n",
    "# Save the image to the specified folder\n",
    "file_path = os.path.join(folder_path, f'number{file_count}.png')\n",
    "img.save(file_path)\n",
    "\n",
    "# Display the image\n",
    "img.show()\n"
   ]
  },
  {
   "cell_type": "code",
   "execution_count": null,
   "id": "e6f34378-5a58-4746-882d-bfa86787a22a",
   "metadata": {},
   "outputs": [],
   "source": []
  }
 ],
 "metadata": {
  "kernelspec": {
   "display_name": "Python 3 (ipykernel)",
   "language": "python",
   "name": "python3"
  },
  "language_info": {
   "codemirror_mode": {
    "name": "ipython",
    "version": 3
   },
   "file_extension": ".py",
   "mimetype": "text/x-python",
   "name": "python",
   "nbconvert_exporter": "python",
   "pygments_lexer": "ipython3",
   "version": "3.11.1"
  }
 },
 "nbformat": 4,
 "nbformat_minor": 5
}
