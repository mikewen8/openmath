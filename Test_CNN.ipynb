{
 "cells": [
  {
   "cell_type": "code",
   "execution_count": 36,
   "id": "5f623ed9-93b9-4b0f-9ade-8efef1cb4200",
   "metadata": {},
   "outputs": [],
   "source": [
    "#tensor flow guide book https://archive.org/details/ai-ml/page/24/mode/2up\n",
    "import tensorflow as tf # for ML and we will be using a tensorflow data set/ the mnist number data set\n",
    "#tensorflow guide https://www.tensorflow.org/guide/keras/sequential_model\n",
    "import numpy as np #working with arrays\n",
    "import matplotlib.pyplot as plt # for visualization\n",
    "import cv2 #for computer vision\n",
    "import os\n"
   ]
  },
  {
   "cell_type": "code",
   "execution_count": 37,
   "id": "a67d161c-3310-4795-ba01-371b378c69cd",
   "metadata": {},
   "outputs": [],
   "source": [
    "# using my own data this time https://www.youtube.com/watch?v=q7ZuZ8ZOErE\n",
    "#we will still greyscale data reason being it takes the intensity of the light to formulate image recognition processes.\n",
    "#------------\n"
   ]
  },
  {
   "cell_type": "markdown",
   "id": "2b50f083-c675-4a6d-98eb-7cc6eb5d1b5b",
   "metadata": {},
   "source": [
    "\n",
    "When we train our own data\n",
    "using sklearn\n",
    "\n",
    "from sklearn.model_selection import train_test_split\n",
    "\n",
    " Assuming you have your data in variables x (images) and y (labels)\n",
    "\n",
    " Split the dataset into training and testing sets\n",
    "x_train, x_test, y_train, y_test = train_test_split(x, y, test_size=0.2, random_state=42)\n",
    "\n",
    " test_size=0.2 indicates that 20% of the data will be used for testing\n",
    " random_state is used to ensure reproducibility, setting it to a fixed value ensures the same random split each time you run the code\n",
    "\n",
    "for the datapipeline it would probably benefit from using tf.datasets framework for images \n",
    "pandas for statistical data \n",
    "refer to this page:\n",
    "https://www.tensorflow.org/guide/data\n"
   ]
  },
  {
   "cell_type": "code",
   "execution_count": 38,
   "id": "deb6f413-7a16-4055-87a2-3469a87187b9",
   "metadata": {},
   "outputs": [],
   "source": [
    "#now lets normalize the data/grey scaling \n",
    "\"\"\"gray scale pixel has value of  255  normalizing would make it between 0 and 1 \n",
    "it will be scaling things down the value of 125 might look like 0.5\"\"\"\n",
    "\n",
    "\"\"\"axis=-1:\n",
    "When axis=-1, normalization is performed along the last axis of the input data.\n",
    "In the context of a 2D tensor (like a matrix), where the first axis corresponds to rows and the second axis corresponds to columns, axis=-1 implies normalization is performed along the columns.\n",
    "This means that each feature (column) in the input data is independently normalized across the samples.\n",
    "axis=1:\n",
    "When axis=1, normalization is performed along the second axis of the input data.\n",
    "In the context of a 2D tensor, where the first axis corresponds to rows and the second axis corresponds to columns, axis=1 implies normalization is performed along the rows.\n",
    "This means that each sample (row) in the input data is independently normalized across its features.\n",
    "\n",
    "Normalization Along Rows:\n",
    "With axis=0, normalization is applied along each feature (column) across all the samples (rows).\n",
    "Each feature's mean and standard deviation are calculated across all the samples, considering all the values of that feature across all samples.\n",
    "The normalization is then applied to each sample's feature values based on these aggregated statistics.\n",
    "\n",
    "\"\"\"\n",
    "x_train= tf.keras.utils.normalize(x_train, axis= 1)\n",
    "x_test = tf.keras.utils.normalize(x_test, axis =1)"
   ]
  },
  {
   "cell_type": "code",
   "execution_count": 39,
   "id": "95026b70-4fbd-4c0f-8cf0-79aa134f9559",
   "metadata": {},
   "outputs": [
    {
     "name": "stdout",
     "output_type": "stream",
     "text": [
      "Training data shape: (60000, 28, 28)\n",
      "Test data shape: (10000, 28, 28)\n"
     ]
    }
   ],
   "source": [
    "#check the shape of what x_train and x_test is\n",
    "print(\"Training data shape:\", x_train.shape)\n",
    "print(\"Test data shape:\", x_test.shape)"
   ]
  },
  {
   "cell_type": "code",
   "execution_count": 40,
   "id": "9f280cd8-3f46-4917-a93c-e0644779c5d9",
   "metadata": {},
   "outputs": [
    {
     "data": {
      "text/plain": [
       "\"\\nplt.figure(figsize=(10, 10))\\nfor i in range(25):  # Plotting the first 25 images\\n    plt.subplot(5, 5, i + 1)\\n    plt.imshow(x_train[i], cmap='gray')\\n    plt.axis('off')  # Turn off axis labels\\n    plt.title(f'Label: {y_train[i]}')  # Show the label as the title\\nplt.show()\\n\""
      ]
     },
     "execution_count": 40,
     "metadata": {},
     "output_type": "execute_result"
    }
   ],
   "source": [
    "# Plot some of the images from the training set\n",
    "\"\"\"\n",
    "plt.figure(figsize=(10, 10))\n",
    "for i in range(25):  # Plotting the first 25 images\n",
    "    plt.subplot(5, 5, i + 1)\n",
    "    plt.imshow(x_train[i], cmap='gray')\n",
    "    plt.axis('off')  # Turn off axis labels\n",
    "    plt.title(f'Label: {y_train[i]}')  # Show the label as the title\n",
    "plt.show()\n",
    "\"\"\""
   ]
  },
  {
   "cell_type": "code",
   "execution_count": 41,
   "id": "362a1009-6cb1-49ab-94ed-6ee210fffd0c",
   "metadata": {},
   "outputs": [
    {
     "data": {
      "text/plain": [
       "\"\\nthis is convulitonal one to do larger scaled\\nimport tensorflow as tf\\n\\n# Define input shape\\ninput_shape = (None, None, 1)  # Allow variable input size for height and width, and 1 channel for grayscale\\n\\nmodel = tf.keras.models.Sequential()\\nmodel.add(tf.keras.layers.Input(shape=input_shape))\\nmodel.add(tf.keras.layers.Rescaling(1./255))  # Rescale pixel values to [0, 1]\\n\\n# Add convolutional layers\\nmodel.add(tf.keras.layers.Conv2D(32, kernel_size=(3, 3), activation='relu'))\\nmodel.add(tf.keras.layers.MaxPooling2D(pool_size=(2, 2)))\\nmodel.add(tf.keras.layers.Conv2D(64, kernel_size=(3, 3), activation='relu'))\\nmodel.add(tf.keras.layers.MaxPooling2D(pool_size=(2, 2)))\\nmodel.add(tf.keras.layers.Conv2D(64, kernel_size=(3, 3), activation='relu'))\\n\\n# Global average pooling\\nmodel.add(tf.keras.layers.GlobalAveragePooling2D())\\n\\n# Add fully connected layers\\nmodel.add(tf.keras.layers.Dense(128, activation='relu'))\\nmodel.add(tf.keras.layers.Dropout(0.5))\\nmodel.add(tf.keras.layers.Dense(10, activation='softmax'))\\n\\n# Compile the model\\nmodel.compile(optimizer='adam',\\n              loss='sparse_categorical_crossentropy',\\n              metrics=['accuracy'])\\n\\n# Print model summary\\nmodel.summary()\\n\""
      ]
     },
     "execution_count": 41,
     "metadata": {},
     "output_type": "execute_result"
    }
   ],
   "source": [
    "\"\"\"\n",
    "this is convulitonal one to do larger scaled\n",
    "import tensorflow as tf\n",
    "\n",
    "# Define input shape\n",
    "input_shape = (None, None, 1)  # Allow variable input size for height and width, and 1 channel for grayscale\n",
    "\n",
    "model = tf.keras.models.Sequential()\n",
    "model.add(tf.keras.layers.Input(shape=input_shape))\n",
    "model.add(tf.keras.layers.Rescaling(1./255))  # Rescale pixel values to [0, 1]\n",
    "\n",
    "# Add convolutional layers\n",
    "model.add(tf.keras.layers.Conv2D(32, kernel_size=(3, 3), activation='relu'))\n",
    "model.add(tf.keras.layers.MaxPooling2D(pool_size=(2, 2)))\n",
    "model.add(tf.keras.layers.Conv2D(64, kernel_size=(3, 3), activation='relu'))\n",
    "model.add(tf.keras.layers.MaxPooling2D(pool_size=(2, 2)))\n",
    "model.add(tf.keras.layers.Conv2D(64, kernel_size=(3, 3), activation='relu'))\n",
    "\n",
    "# Global average pooling\n",
    "model.add(tf.keras.layers.GlobalAveragePooling2D())\n",
    "\n",
    "# Add fully connected layers\n",
    "model.add(tf.keras.layers.Dense(128, activation='relu'))\n",
    "model.add(tf.keras.layers.Dropout(0.5))\n",
    "model.add(tf.keras.layers.Dense(10, activation='softmax'))\n",
    "\n",
    "# Compile the model\n",
    "model.compile(optimizer='adam',\n",
    "              loss='sparse_categorical_crossentropy',\n",
    "              metrics=['accuracy'])\n",
    "\n",
    "# Print model summary\n",
    "model.summary()\n",
    "\"\"\""
   ]
  },
  {
   "cell_type": "code",
   "execution_count": 42,
   "id": "eb639007-f19b-4dd2-b526-73ef71c0217c",
   "metadata": {},
   "outputs": [],
   "source": [
    "\n",
    "model = tf.keras.models.Sequential()\n",
    "model.add(tf.keras.layers.Flatten(input_shape = (28,28))) #flattens the data turns the pixels from 28x28 to a line between 784\n",
    "#flatten turns it from 2-D to a 1-D array\n",
    "\n",
    "#add relu layer and softmax/optimization functions below:\n",
    "model.add(tf.keras.layers.Dense(128,activation = tf.nn.relu)) #model.add(tf.keras.layers.Dense(128,activation = 'relu')) relu follows something simlar to\n",
    "#sigmoid activation relu = f(x)=max(0,x) It returns 0 for all negative inputs and returns the input value for all positive inputs.\n",
    "\n",
    "#relu is the activation function in the dense layer and 128 is the number of units\n",
    "model.add(tf.keras.layers.Dense(128,activation = tf.nn.relu)) # make a second layer \n",
    "model.add(tf.keras.layers.Dense(10,activation = tf.nn.softmax)) # now the softmax layer all the 10 neurons will add up to one \n",
    "#softmax is the output layer\n"
   ]
  },
  {
   "cell_type": "code",
   "execution_count": 43,
   "id": "f9314035-15a7-4d37-afb1-d8a9544afa62",
   "metadata": {},
   "outputs": [
    {
     "data": {
      "text/plain": [
       "'\\n#how relu works:\\nimport numpy as np\\n\\n# Define a sample input array\\ninput_array = np.array([-2, -1, 0, 1, 2])\\n\\n# Apply ReLU activation function\\noutput_array = np.maximum(0, input_array)\\n\\nprint(\"Input array:\", input_array)\\nprint(\"Output array (ReLU):\", output_array)\\n\\n#Input array: [-2 -1  0  1  2]\\n#Output array (ReLU): [0 0 0 1 2]\\n\\n\\n#how softmax works:\\nimport numpy as np\\n\\ndef softmax(logits):\\n    exp_logits = np.exp(logits)\\n    softmax_scores = exp_logits / np.sum(exp_logits)\\n    return softmax_scores\\n\\n# Example logits (raw scores)\\nlogits = np.array([2.0, 1.0, 0.1])\\n\\n# Compute softmax probabilities\\nprobabilities = softmax(logits)\\n\\nprint(\"Raw Scores (Logits):\", logits)\\nprint(\"Softmax Probabilities:\", probabilities)\\nprint(\"Sum of Probabilities:\", np.sum(probabilities))\\n\\n#Raw Scores (Logits): [2.  1.  0.1]\\n#Softmax Probabilities: [0.65900114 0.24243297 0.09856589]\\n#Sum of Probabilities: 1.0\\n'"
      ]
     },
     "execution_count": 43,
     "metadata": {},
     "output_type": "execute_result"
    }
   ],
   "source": [
    "\"\"\"\n",
    "#how relu works:\n",
    "import numpy as np\n",
    "\n",
    "# Define a sample input array\n",
    "input_array = np.array([-2, -1, 0, 1, 2])\n",
    "\n",
    "# Apply ReLU activation function\n",
    "output_array = np.maximum(0, input_array)\n",
    "\n",
    "print(\"Input array:\", input_array)\n",
    "print(\"Output array (ReLU):\", output_array)\n",
    "\n",
    "#Input array: [-2 -1  0  1  2]\n",
    "#Output array (ReLU): [0 0 0 1 2]\n",
    "\n",
    "\n",
    "#how softmax works:\n",
    "import numpy as np\n",
    "\n",
    "def softmax(logits):\n",
    "    exp_logits = np.exp(logits)\n",
    "    softmax_scores = exp_logits / np.sum(exp_logits)\n",
    "    return softmax_scores\n",
    "\n",
    "# Example logits (raw scores)\n",
    "logits = np.array([2.0, 1.0, 0.1])\n",
    "\n",
    "# Compute softmax probabilities\n",
    "probabilities = softmax(logits)\n",
    "\n",
    "print(\"Raw Scores (Logits):\", logits)\n",
    "print(\"Softmax Probabilities:\", probabilities)\n",
    "print(\"Sum of Probabilities:\", np.sum(probabilities))\n",
    "\n",
    "#Raw Scores (Logits): [2.  1.  0.1]\n",
    "#Softmax Probabilities: [0.65900114 0.24243297 0.09856589]\n",
    "#Sum of Probabilities: 1.0\n",
    "\"\"\"\n"
   ]
  },
  {
   "cell_type": "code",
   "execution_count": 44,
   "id": "fc321a51-7222-430c-9979-1da548cb93b5",
   "metadata": {},
   "outputs": [],
   "source": [
    "model.compile(optimizer='adam', loss='sparse_categorical_crossentropy', metrics=['accuracy'])\n",
    "#uses adam optimization make sure you spell the loss function right"
   ]
  },
  {
   "cell_type": "markdown",
   "id": "190fca79-30f2-4e95-b6a3-3f3c0a8154b0",
   "metadata": {},
   "source": [
    "Cross-entropy is a concept from information theory and is commonly used as a loss function in machine learning, particularly in classification tasks. Mathematically, cross-entropy measures the difference between two probability distributions: the predicted probability distribution and the true probability distribution.\n",
    "\n",
    "Given:\n",
    "\n",
    "p(y): The true probability distribution of the classes. For example, in binary classification,  p(y) could be a one-hot encoded vector representing the true class label.\n",
    "\n",
    "q(y): The predicted probability distribution of the classes. For example, output of a softmax function representing predicted class probabilities.\n",
    "\n",
    "The cross-entropy between \n",
    "p and q, denoted as H(p,q), is defined as:\n",
    "H(p, q) = -\\sum_{i} p(y_i) \\log(q(y_i))\n",
    "Where:\n",
    "\n",
    "i iterates over all classes,\n",
    "\n",
    "p(y_i)  is the true probability of class i\n",
    "\n",
    "q(y_i) is the predicted probability of class i\n",
    "\n",
    "In binary classification, where  p(y) is a one-hot encoded vector with the true class label, the cross-entropy simplifies to the following form:\n",
    "H(p, q) = -[p(y) \\log(q(y)) + (1 - p(y)) \\log(1 - q(y))]\n",
    "\n"
   ]
  },
  {
   "cell_type": "code",
   "execution_count": 45,
   "id": "af34520e-d1c4-462c-ae48-257ab2b1fe28",
   "metadata": {},
   "outputs": [
    {
     "name": "stdout",
     "output_type": "stream",
     "text": [
      "Epoch 1/3\n",
      "1875/1875 [==============================] - 2s 919us/step - loss: 0.2603 - accuracy: 0.9225\n",
      "Epoch 2/3\n",
      "1875/1875 [==============================] - 2s 909us/step - loss: 0.1069 - accuracy: 0.9669\n",
      "Epoch 3/3\n",
      "1875/1875 [==============================] - 2s 899us/step - loss: 0.0725 - accuracy: 0.9772\n",
      "INFO:tensorflow:Assets written to: handwritten.model\\assets\n"
     ]
    },
    {
     "name": "stderr",
     "output_type": "stream",
     "text": [
      "INFO:tensorflow:Assets written to: handwritten.model\\assets\n"
     ]
    }
   ],
   "source": [
    "#fit the model pass the training data\n",
    "\n",
    "model.fit(x_train,y_train, epochs=3) \n",
    "# epochs is how many iterations the model will see the data\n",
    "\n",
    "#you can use clusting nearest neighbor instead / convolutional neural netoworks or\n",
    "\n",
    "model.save('handwritten.model')"
   ]
  },
  {
   "cell_type": "code",
   "execution_count": 46,
   "id": "cd824ab3-ce9f-4790-9d5f-daf76aa3a191",
   "metadata": {
    "scrolled": true
   },
   "outputs": [
    {
     "name": "stdout",
     "output_type": "stream",
     "text": [
      "313/313 [==============================] - 0s 693us/step - loss: 0.0992 - accuracy: 0.9693\n",
      "Test Loss: 0.09924504905939102\n",
      "Test Accuracy: 0.9692999720573425\n"
     ]
    }
   ],
   "source": [
    "model = tf.keras.models.load_model('handwritten.model')\n",
    "loss, accuracy = model.evaluate(x_test, y_test)\n",
    "print(\"Test Loss:\", loss)\n",
    "print(\"Test Accuracy:\", accuracy)\n",
    "#low loss and high accuracy is better \n",
    "#will write to a .pb file with the name of handwritten model \n",
    "#pb stands for proto buffer\n",
    "# protobuffer is data type like json"
   ]
  },
  {
   "cell_type": "code",
   "execution_count": 47,
   "id": "c56599aa-42cf-4bea-a2fc-99438f58646f",
   "metadata": {},
   "outputs": [
    {
     "name": "stdout",
     "output_type": "stream",
     "text": [
      "1/1 [==============================] - 0s 33ms/step\n",
      "the number is probably 1\n"
     ]
    },
    {
     "data": {
      "image/png": "[encoded data removed]",
      "text/plain": [
       "<Figure size 640x480 with 1 Axes>"
      ]
     },
     "metadata": {},
     "output_type": "display_data"
    },
    {
     "name": "stdout",
     "output_type": "stream",
     "text": [
      "1/1 [==============================] - 0s 13ms/step\n",
      "the number is probably 3\n"
     ]
    },
    {
     "data": {
      "image/png": "[encoded data removed]",
      "text/plain": [
       "<Figure size 640x480 with 1 Axes>"
      ]
     },
     "metadata": {},
     "output_type": "display_data"
    }
   ],
   "source": [
    "\n",
    "\n",
    "#use os stream and paint to test this model\n",
    "\n",
    "\n",
    "#https://www.youtube.com/watch?v=bte8Er0QhDg need fo figure out why the path isnt working\n",
    "image_number = 0\n",
    "predictions = []\n",
    "\n",
    "while os.path.isfile(f\"Numbers/number{image_number}.png\"):\n",
    "    try:\n",
    "        img = cv2.imread(f\"Numbers/number{image_number}.png\")[:,:,0]\n",
    "        #img = cv2.imread(f\"foldername/label{image_number}.png\")[::0]#we dont care about colors so [:,:,0] will be white on black inverted\n",
    "        #need to invert it to be black on white use numpy to invert the numbers\n",
    "        img = np.invert(np.array([img])) \n",
    "        #img will be an array of a list of img\n",
    "        prediction = model.predict(img)\n",
    "        print(f\"the number is probably {np.argmax(prediction)}\") #argmax gives index of the field of with the highest number which neuron has the highest activation\n",
    "        #zeroth with represent zero the first will represent 1\n",
    "        predictions.append(np.argmax(prediction))\n",
    "        plt.imshow(img[0],cmap=plt.cm.binary)\n",
    "        plt.show()\n",
    "    except:\n",
    "        print(\"error\")\n",
    "    finally: #nomatter what this will execute\n",
    "        image_number+=1\n",
    "\n",
    "#if model doesn't work well train with more epoch\n",
    "\n"
   ]
  },
  {
   "cell_type": "code",
   "execution_count": 48,
   "id": "76736d3e-44b0-4f7d-b1d3-81968b6f7e87",
   "metadata": {},
   "outputs": [
    {
     "data": {
      "text/plain": [
       "'\\nimport cv2\\n\\n# Specify the path to the image file\\nfile_path = \"C:\\\\Users\\\\mikec\\\\openmath\\\\Numbers\\\\number1.png\"\\n\\n# Read the image using OpenCV\\nimg = cv2.imread(file_path)\\n\\n# Check if the image was successfully loaded\\nif img is not None:\\n    # Display the image in a window\\n    cv2.imshow(\\'Number 1\\', img)\\n    # Wait for any key press to close the window\\n    cv2.waitKey(0)\\n    # Close all OpenCV windows\\n    cv2.destroyAllWindows()\\nelse:\\n    print(\"Failed to load the image.\")\\n'"
      ]
     },
     "execution_count": 48,
     "metadata": {},
     "output_type": "execute_result"
    }
   ],
   "source": [
    "\"\"\"\n",
    "import cv2\n",
    "\n",
    "# Specify the path to the image file\n",
    "file_path = \"C:\\\\Users\\\\mikec\\\\openmath\\\\Numbers\\\\number1.png\"\n",
    "\n",
    "# Read the image using OpenCV\n",
    "img = cv2.imread(file_path)\n",
    "\n",
    "# Check if the image was successfully loaded\n",
    "if img is not None:\n",
    "    # Display the image in a window\n",
    "    cv2.imshow('Number 1', img)\n",
    "    # Wait for any key press to close the window\n",
    "    cv2.waitKey(0)\n",
    "    # Close all OpenCV windows\n",
    "    cv2.destroyAllWindows()\n",
    "else:\n",
    "    print(\"Failed to load the image.\")\n",
    "\"\"\""
   ]
  },
  {
   "cell_type": "code",
   "execution_count": 49,
   "id": "34bfce85-2f35-4e23-85fc-d74251c480cb",
   "metadata": {},
   "outputs": [
    {
     "name": "stdout",
     "output_type": "stream",
     "text": [
      "[1, 3]\n"
     ]
    }
   ],
   "source": [
    "print(predictions)"
   ]
  },
  {
   "cell_type": "code",
   "execution_count": null,
   "id": "fdaf272f-4e7e-4f5c-b733-5095642c3200",
   "metadata": {},
   "outputs": [],
   "source": []
  }
 ],
 "metadata": {
  "kernelspec": {
   "display_name": "Python 3 (ipykernel)",
   "language": "python",
   "name": "python3"
  },
  "language_info": {
   "codemirror_mode": {
    "name": "ipython",
    "version": 3
   },
   "file_extension": ".py",
   "mimetype": "text/x-python",
   "name": "python",
   "nbconvert_exporter": "python",
   "pygments_lexer": "ipython3",
   "version": "3.11.1"
  }
 },
 "nbformat": 4,
 "nbformat_minor": 5
}
