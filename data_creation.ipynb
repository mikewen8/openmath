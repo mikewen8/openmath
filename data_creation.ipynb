{
 "cells": [
  {
   "cell_type": "code",
   "execution_count": 6,
   "id": "d5a1647b-ef09-4c18-b467-5c316dbed3dd",
   "metadata": {},
   "outputs": [
    {
     "name": "stdout",
     "output_type": "stream",
     "text": [
      "There are 1 files in the folder.\n"
     ]
    }
   ],
   "source": [
    "from PIL import Image, ImageDraw\n",
    "import os\n",
    "\n",
    "# Base folder path where the subfolder '1' will be created\n",
    "base_folder_path = \"C:\\\\Users\\\\mikec\\\\openmath\\\\Training\"\n",
    "\n",
    "# Subfolder for '1'\n",
    "subfolder = \"1\"\n",
    "\n",
    "# Full path including the subfolder\n",
    "folder_path = os.path.join(base_folder_path, subfolder)\n",
    "\n",
    "# Ensure the base and subfolder exists, if not create them\n",
    "if not os.path.exists(folder_path):\n",
    "    os.makedirs(folder_path)\n",
    "\n",
    "# Determine the next file number to avoid overwriting existing files\n",
    "file_count = len([name for name in os.listdir(folder_path) if os.path.isfile(os.path.join(folder_path, name))])\n",
    "\n",
    "print(f\"There are {file_count} files in the folder.\")\n",
    "\n",
    "# Create a 28x28 pixel image with a white background\n",
    "img = Image.new('RGB', (28, 28), 'white')\n",
    "draw = ImageDraw.Draw(img)\n",
    "\n",
    "# Set the color and width of the lines\n",
    "color = 'black'\n",
    "width = 2\n",
    "\n",
    "# Drawing a simple \"1\"\n",
    "draw.line((14, 5, 14, 25), fill=color, width=width)  # Vertical line\n",
    "\n",
    "# Save the image to the specified folder, incrementing file name based on existing count\n",
    "file_path = os.path.join(folder_path, f'1_{file_count}.png')\n",
    "img.save(file_path)\n",
    "\n",
    "# Optionally, display the image\n",
    "img.show()\n"
   ]
  },
  {
   "cell_type": "code",
   "execution_count": 8,
   "id": "fce7856d-8287-41c7-800e-4e0a7200be1d",
   "metadata": {},
   "outputs": [
    {
     "name": "stdout",
     "output_type": "stream",
     "text": [
      "There are 0 files in the folder.\n"
     ]
    }
   ],
   "source": [
    "from PIL import Image, ImageDraw\n",
    "import os\n",
    "\n",
    "# Base folder path where the subfolder '2' will be created\n",
    "base_folder_path = \"C:\\\\Users\\\\mikec\\\\openmath\\\\Training\"\n",
    "\n",
    "# Subfolder for '2'\n",
    "subfolder = \"2\"\n",
    "\n",
    "# Full path including the subfolder\n",
    "folder_path = os.path.join(base_folder_path, subfolder)\n",
    "\n",
    "# Ensure the base and subfolder exists, if not create them\n",
    "if not os.path.exists(folder_path):\n",
    "    os.makedirs(folder_path)\n",
    "\n",
    "# Determine the next file number to avoid overwriting existing files\n",
    "file_count = len([name for name in os.listdir(folder_path) if os.path.isfile(os.path.join(folder_path, name))])\n",
    "\n",
    "print(f\"There are {file_count} files in the folder.\")\n",
    "\n",
    "# Create a 28x28 pixel image with a white background\n",
    "img = Image.new('RGB', (28, 28), 'white')\n",
    "draw = ImageDraw.Draw(img)\n",
    "\n",
    "# Set the color and width of the lines for drawing '2'\n",
    "color = 'black'\n",
    "width = 2\n",
    "\n",
    "# Drawing a simple \"2\"\n",
    "# Start by drawing the top part of the '2'\n",
    "draw.line((10, 5, 18, 5), fill=color, width=width)  # Top horizontal line\n",
    "draw.line((18, 5, 18, 14), fill=color, width=width)  # Middle vertical line\n",
    "draw.line((18, 14, 10, 14), fill=color, width=width)  # Middle horizontal line\n",
    "draw.line((10, 14, 10, 23), fill=color, width=width)  # Bottom left vertical line\n",
    "draw.line((10, 23, 18, 23), fill=color, width=width)  # Bottom horizontal line\n",
    "\n",
    "# Note: These drawing commands are a simplified way to represent '2'.\n",
    "# Adjust the positions and lines as needed to better match the appearance of '2'.\n",
    "\n",
    "# Save the image to the specified folder, incrementing file name based on existing count\n",
    "file_path = os.path.join(folder_path, f'2_{file_count}.png')\n",
    "img.save(file_path)\n",
    "\n",
    "# Optionally, display the image\n",
    "img.show()\n"
   ]
  },
  {
   "cell_type": "code",
   "execution_count": null,
   "id": "1b76baa1-7357-4f54-8735-2904e27ab0ab",
   "metadata": {},
   "outputs": [],
   "source": []
  }
 ],
 "metadata": {
  "kernelspec": {
   "display_name": "Python 3 (ipykernel)",
   "language": "python",
   "name": "python3"
  },
  "language_info": {
   "codemirror_mode": {
    "name": "ipython",
    "version": 3
   },
   "file_extension": ".py",
   "mimetype": "text/x-python",
   "name": "python",
   "nbconvert_exporter": "python",
   "pygments_lexer": "ipython3",
   "version": "3.11.1"
  }
 },
 "nbformat": 4,
 "nbformat_minor": 5
}
